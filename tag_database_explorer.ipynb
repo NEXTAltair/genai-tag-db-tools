{
 "cells": [
  {
   "cell_type": "markdown",
   "metadata": {},
   "source": [
    "# 検索機能のテスト"
   ]
  },
  {
   "cell_type": "code",
   "execution_count": 1,
   "metadata": {},
   "outputs": [
    {
     "data": {
      "application/vnd.jupyter.widget-view+json": {
       "model_id": "d4e7f4b0bee040b19742a1230dc876c0",
       "version_major": 2,
       "version_minor": 0
      },
      "text/plain": [
       "VBox(children=(Text(value='', description='タグ検索:'), RadioButtons(description='検索モード:', options=('部分一致', '完全一致'…"
      ]
     },
     "metadata": {},
     "output_type": "display_data"
    },
    {
     "name": "stdout",
     "output_type": "stream",
     "text": [
      "セットアップ完了\n"
     ]
    }
   ],
   "source": [
    "from tag_search import initialize_tag_searcher, create_widgets\n",
    "tagsearcher = initialize_tag_searcher()\n",
    "widget = create_widgets(tagsearcher)\n",
    "display(widget)\n",
    "print(\"セットアップ完了\")"
   ]
  },
  {
   "cell_type": "code",
   "execution_count": 2,
   "metadata": {},
   "outputs": [
    {
     "data": {
      "application/vnd.jupyter.widget-view+json": {
       "model_id": "007816b0ec854ad789e3dcaa28117984",
       "version_major": 2,
       "version_minor": 0
      },
      "text/plain": [
       "VBox(children=(Text(value='', description='Prompt:'), Dropdown(description='フォーマット:', options=('全て', 'unknown'…"
      ]
     },
     "metadata": {},
     "output_type": "display_data"
    },
    {
     "name": "stdout",
     "output_type": "stream",
     "text": [
      "セットアップ完了\n"
     ]
    }
   ],
   "source": [
    "from tag_search import initialize_tag_searcher, create_cleaning_widgets\n",
    "tagsearcher = initialize_tag_searcher()\n",
    "widget = create_cleaning_widgets(tagsearcher)\n",
    "display(widget)\n",
    "print(\"セットアップ完了\")"
   ]
  }
 ],
 "metadata": {
  "kernelspec": {
   "display_name": "venv",
   "language": "python",
   "name": "python3"
  },
  "language_info": {
   "codemirror_mode": {
    "name": "ipython",
    "version": 3
   },
   "file_extension": ".py",
   "mimetype": "text/x-python",
   "name": "python",
   "nbconvert_exporter": "python",
   "pygments_lexer": "ipython3",
   "version": "3.12.4"
  }
 },
 "nbformat": 4,
 "nbformat_minor": 2
}
