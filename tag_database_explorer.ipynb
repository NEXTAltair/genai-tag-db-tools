{
 "cells": [
  {
   "cell_type": "markdown",
   "metadata": {},
   "source": [
    "# 検索機能のテスト"
   ]
  },
  {
   "cell_type": "code",
   "execution_count": null,
   "metadata": {},
   "outputs": [
    {
     "name": "stdout",
     "output_type": "stream",
     "text": [
      "キーワード '1boy' で検索中... モード: partial\n",
      "search_tags関数: キーワード '1boy' で検索中... モード: partial\n",
      "search_tags関数: 1件の結果が見つかりました\n",
      "タグID 25315 の詳細情報を取得中...\n"
     ]
    },
    {
     "data": {
      "text/html": [
       "<div>\n",
       "<style scoped>\n",
       "    .dataframe tbody tr th:only-of-type {\n",
       "        vertical-align: middle;\n",
       "    }\n",
       "\n",
       "    .dataframe tbody tr th {\n",
       "        vertical-align: top;\n",
       "    }\n",
       "\n",
       "    .dataframe thead th {\n",
       "        text-align: right;\n",
       "    }\n",
       "</style>\n",
       "<table border=\"1\" class=\"dataframe\">\n",
       "  <thead>\n",
       "    <tr style=\"text-align: right;\">\n",
       "      <th></th>\n",
       "      <th>tag_id</th>\n",
       "      <th>tag</th>\n",
       "      <th>source_tag</th>\n",
       "      <th>language</th>\n",
       "      <th>translation</th>\n",
       "      <th>alias</th>\n",
       "      <th>preferred_tag</th>\n",
       "      <th>format_id</th>\n",
       "      <th>type_id</th>\n",
       "      <th>format_name</th>\n",
       "      <th>format_description</th>\n",
       "      <th>usage_count</th>\n",
       "      <th>type_description</th>\n",
       "      <th>type_name</th>\n",
       "    </tr>\n",
       "  </thead>\n",
       "  <tbody>\n",
       "    <tr>\n",
       "      <th>0</th>\n",
       "      <td>25315</td>\n",
       "      <td>1boys</td>\n",
       "      <td>1boys</td>\n",
       "      <td>zh-Hant</td>\n",
       "      <td>1个男人</td>\n",
       "      <td>0</td>\n",
       "      <td>1boys</td>\n",
       "      <td>0</td>\n",
       "      <td>0</td>\n",
       "      <td>unknown</td>\n",
       "      <td></td>\n",
       "      <td>0.0</td>\n",
       "      <td>NULL</td>\n",
       "      <td>NULL</td>\n",
       "    </tr>\n",
       "  </tbody>\n",
       "</table>\n",
       "</div>"
      ],
      "text/plain": [
       "  tag_id    tag source_tag language translation alias preferred_tag format_id  \\\n",
       "0  25315  1boys      1boys  zh-Hant        1个男人     0         1boys         0   \n",
       "\n",
       "  type_id format_name format_description usage_count type_description  \\\n",
       "0       0     unknown                            0.0             NULL   \n",
       "\n",
       "  type_name  \n",
       "0      NULL  "
      ]
     },
     "metadata": {},
     "output_type": "display_data"
    },
    {
     "name": "stdout",
     "output_type": "stream",
     "text": [
      "search_and_display関数が完了しました\n"
     ]
    }
   ],
   "source": [
    "from tag_search import create_widgets\n",
    "widget = create_widgets()\n",
    "display(widget)\n",
    "print(\"セットアップ完了\")"
   ]
  }
 ],
 "metadata": {
  "kernelspec": {
   "display_name": "venv",
   "language": "python",
   "name": "python3"
  },
  "language_info": {
   "codemirror_mode": {
    "name": "ipython",
    "version": 3
   },
   "file_extension": ".py",
   "mimetype": "text/x-python",
   "name": "python",
   "nbconvert_exporter": "python",
   "pygments_lexer": "ipython3",
   "version": "3.11.9"
  }
 },
 "nbformat": 4,
 "nbformat_minor": 2
}
